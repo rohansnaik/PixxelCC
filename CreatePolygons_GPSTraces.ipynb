{
 "cells": [
  {
   "cell_type": "code",
   "execution_count": 3,
   "metadata": {},
   "outputs": [],
   "source": [
    "'''\n",
    "Author: RN\n",
    "Purpose: This script reads GPS traces file, removes linear non-required points and creates a boundary\n",
    "polygon used to create farmer's land boundary Polygon \n",
    "'''\n",
    "\n",
    "################### Libraries Imports Section ############################\n",
    "import pandas as pd\n",
    "import geopandas as gpd\n",
    "import shapely\n",
    "from shapely.geometry import Point, Polygon, MultiPoint\n",
    "import numpy as np\n",
    "\n",
    "################### Reading GPS Traces from/into required format ############################\n",
    "df = pd.read_csv(r'C:\\Users\\rohan\\Downloads\\cordinates', names=['y','x']) #x is longitude, y is latitude\n",
    "crs = {'init':'epsg:4326'}    ## CRS is assumed as WGS84 \n",
    "mercatorCRS = {'init':'epsg:3857'}    ## Mercator projection for calculating final area \n",
    "geometry = [Point(xy) for xy in zip(df['x'],df['y'])]\n",
    "gdf = gpd.GeoDataFrame(df, crs = crs, geometry = geometry)\n",
    "gdf = gdf.reset_index()\n",
    "gdf['FID'] = gdf.index\n",
    "#Following line creates Point shapefile from GPS Traces for viewing purpose.Can be commented if not required.Path needs to be changed\n",
    "gdf.to_file(r'C:\\Users\\rohan\\Downloads\\gps_traces_pts.shp')\n",
    "\n",
    "##################### Calculating some statistics from Points and doing Proximity Analysis ##################################\n",
    "tdf = gdf.copy()\n",
    "xmin, ymin, xmax, ymax = tdf.total_bounds\n",
    "xdiff = xmax - xmin\n",
    "ydiff = ymax - ymin\n",
    "bufferRadius = min(xdiff, ydiff)/6    ## parameter 6 is fitting as per input data here. Can be changed for different data for optimal result\n",
    "\n",
    "tdf['geometry'] = tdf.apply(lambda row: row.geometry.buffer(bufferRadius), axis = 1)\n",
    "\n",
    "unionPolygon =  tdf.geometry.unary_union\n",
    "finalBufferedPoly = None    ###  final bigger polygon after discarding smaller isolated ones\n",
    "areaOfFinalBufferedPoly = 0  ### not of much interest here apart from finding biggest polygon,hence CRS is not changed and is calculated in WGS84 only\n",
    "if(unionPolygon.type=='MultiPolygon'):\n",
    "    for poly in unionPolygon:\n",
    "        if(poly.area > areaOfFinalBufferedPoly):\n",
    "            areaOfFinalBufferedPoly = poly.area\n",
    "            finalBufferedPoly = poly\n",
    "else:\n",
    "    finalBufferedPoly = unionPolygon\n",
    "    areaOfFinalBufferedPoly = finalBufferedPoly.area\n",
    "\n",
    "gdf['Keep'] = gdf.apply(lambda row: finalBufferedPoly.contains(row.geometry), axis = 1)\n",
    "\n",
    "##################### Calculating and Finalizing Outputs #################################\n",
    "gdf = gdf.loc[gdf.Keep==True]\n",
    "outBoundaryPoly = gdf.geometry.unary_union.convex_hull\n",
    "outPolyAttr = {'FID':[0]}\n",
    "outPolyDf = pd.DataFrame(outPolyAttr)\n",
    "geometry = [outBoundaryPoly]\n",
    "outPolyGdf = gpd.GeoDataFrame(outPolyDf, crs = crs, geometry = geometry)\n",
    "outPolyGdf.crs = crs \n",
    "#Following line Creates output Polygon shapefile from GPS Traces for viewing purpose.Can be commented if not required.Path needs to be changed\n",
    "outPolyGdf.to_file(r'C:\\Users\\rohan\\Downloads\\farm_land_polygon.shp')"
   ]
  },
  {
   "cell_type": "code",
   "execution_count": null,
   "metadata": {},
   "outputs": [],
   "source": []
  }
 ],
 "metadata": {
  "kernelspec": {
   "display_name": "Python 3",
   "language": "python",
   "name": "python3"
  },
  "language_info": {
   "codemirror_mode": {
    "name": "ipython",
    "version": 3
   },
   "file_extension": ".py",
   "mimetype": "text/x-python",
   "name": "python",
   "nbconvert_exporter": "python",
   "pygments_lexer": "ipython3",
   "version": "3.7.7"
  }
 },
 "nbformat": 4,
 "nbformat_minor": 4
}
