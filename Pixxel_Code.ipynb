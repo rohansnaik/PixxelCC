{
 "cells": [
  {
   "cell_type": "code",
   "execution_count": 3,
   "metadata": {},
   "outputs": [],
   "source": [
    "# import the required packages\n",
    "\n",
    "import pandas as pd\n",
    "import os\n",
    "import io\n",
    "import numpy as np\n",
    "import glob\n",
    "from sklearn.cluster import KMeans\n",
    "import matplotlib.pyplot as plt\n",
    "from osgeo import gdal, osr"
   ]
  },
  {
   "cell_type": "code",
   "execution_count": 7,
   "metadata": {},
   "outputs": [
    {
     "name": "stdout",
     "output_type": "stream",
     "text": [
      "CRS EPSG Code:  32643\n",
      "3718\n",
      "-1771\n",
      "6124\n",
      "1\n",
      "Geotiff image is created successfully\n"
     ]
    }
   ],
   "source": [
    "# the MNDWI index is used for surface water mapping\n",
    "# read any green band (having range 0.533–0.590 μm) and SWIR band (having range 1.566–1.651 μm) to extract water information\n",
    "# MNDWI = Green - SWIR / Green + SWIR\n",
    "\n",
    "def createRgbTiff(newRasterFilePath,rasterOrigin,pixelWidth, pixelHeight, array, proj,format='GTiff'):\n",
    "    bands = None\n",
    "    rows = None\n",
    "    cols = None\n",
    "    try:\n",
    "        bands = array.shape[0]\n",
    "        rows = array.shape[1]\n",
    "        cols = array.shape[2]\n",
    "    except:\n",
    "        bands = 1\n",
    "        rows = array.shape[0]\n",
    "        cols = array.shape[1]\n",
    "        \n",
    "    originX = rasterOrigin[0]\n",
    "    originY = rasterOrigin[1]\n",
    "    driver = gdal.GetDriverByName(format)\n",
    "    # assign bands to the raster\n",
    "    options = ['PHOTOMETRIC=RGB', 'PROFILE=GeoTIFF']\n",
    "    outRaster = driver.Create(newRasterFilePath, cols, rows, bands, gdal.GDT_UInt16, options=options)\n",
    "    outRaster.SetGeoTransform((originX, pixelWidth, 0, originY, 0, pixelHeight))\n",
    "    if(bands==1):\n",
    "        outRaster.GetRasterBand(1).WriteArray(array)\n",
    "    else:\n",
    "        for band in range(bands):\n",
    "            outRaster.GetRasterBand(band+1).WriteArray( array[band, :, :] )\n",
    "\n",
    "    outRasterSRS = osr.SpatialReference()\n",
    "    outRasterSRS.ImportFromEPSG(proj)\n",
    "    outRaster.SetProjection(outRasterSRS.ExportToWkt())\n",
    "\n",
    "    outRaster.FlushCache()\n",
    "    print('Geotiff image is created successfully')\n",
    "\n",
    "if __name__ == \"__main__\":\n",
    "     \n",
    "    #input folder location to tif files    \n",
    "    path = r'C:\\Pixxel_data\\EO1H1480472016328110PZ_1GST\\EO1H1480472016328110PZ'\n",
    "     #list all the available tiffs in the folder\n",
    "    tiffs = glob.glob(os.path.join(path,\"*.tif*\")) \n",
    "\n",
    "    #extract transformation and crs info\n",
    "    transforms = gdal.Open(tiffs[0]).GetGeoTransform()\n",
    "    rasterOrigin = [transforms[0],transforms[3]]\n",
    "    pixelWidth = transforms[1]\n",
    "    pixelHeight = transforms[5]\n",
    "    proj = int(osr.SpatialReference(wkt=gdal.Open(tiffs[0]).GetProjection()).GetAttrValue('AUTHORITY',1))\n",
    "    print(\"CRS EPSG Code: \", proj)\n",
    "    #read the green band\n",
    "    grArr = gdal.Open(tiffs[18]).ReadAsArray()\n",
    "    #read the SWIR band\n",
    "    swir1 = gdal.Open(tiffs[142]).ReadAsArray()\n",
    "    diff = (grArr - swir1)\n",
    "    sum = (grArr + swir1)\n",
    "    sum[sum==0] = 1\n",
    "    mndwi = diff/sum\n",
    "    print(np.amax(diff))\n",
    "    print(np.amin(diff))\n",
    "    print(np.amax(sum))\n",
    "    print(np.amin(sum))\n",
    "    sampleOutputPath = r'C:\\Users\\rohan\\Downloads\\mndwi_test.tif'\n",
    "    createRgbTiff(sampleOutputPath,rasterOrigin,pixelWidth, pixelHeight, mndwi, proj,format='GTiff')"
   ]
  },
  {
   "cell_type": "code",
   "execution_count": 8,
   "metadata": {},
   "outputs": [
    {
     "name": "stdout",
     "output_type": "stream",
     "text": [
      "(3554101, 1)\n",
      "Geotiff image is created successfully\n"
     ]
    },
    {
     "data": {
      "image/png": "[encoded data removed]",
      "text/plain": [
       "<Figure size 432x288 with 1 Axes>"
      ]
     },
     "metadata": {
      "needs_background": "light"
     },
     "output_type": "display_data"
    }
   ],
   "source": [
    "# read the SWIR band and apply kmeans algorithm, by dividing in 5 clusters\n",
    "\n",
    "#sampleInputPath = r'C:\\Pixxel_data\\EO1H1480472016328110PZ_1GST\\EO1H1480472016328110PZ\\EO1H1480472016328110PZ_B008_L1GST.TIF'\n",
    "#array = gdal.Open(sampleInputPath).ReadAsArray()\n",
    "#print(array.shape)\n",
    "\n",
    "pixel_values = swir1.reshape((-1, 1))\n",
    "pixel_values = np.float32(pixel_values)\n",
    "# apply kmeans algorithm and no of clusters = 5\n",
    "kmeans = KMeans(n_clusters=5, random_state=0).fit(pixel_values)\n",
    "pic2show = kmeans.cluster_centers_[kmeans.labels_]\n",
    "plt.imshow(pic2show)\n",
    "print(pic2show.shape)\n",
    "picOut = pic2show.reshape(3481, 1021)\n",
    "sampleOutputPath = r'C:\\Users\\rohan\\Downloads\\test_cluster_out4.tif'\n",
    "createRgbTiff(sampleOutputPath,rasterOrigin,pixelWidth, pixelHeight, picOut, proj,format='GTiff')"
   ]
  },
  {
   "cell_type": "code",
   "execution_count": 9,
   "metadata": {},
   "outputs": [
    {
     "name": "stdout",
     "output_type": "stream",
     "text": [
      "3.6892052 3.6892052\n",
      "0.0 1.0\n",
      "Geotiff image is created successfully\n"
     ]
    }
   ],
   "source": [
    "# to analyse and verify the output, we can extract any of the label from the kmeans algorithm, and then by applying mask, we are\n",
    "# able to extract the water bodies. If we further perform combinations of better stacking of green and SWIR bands, we will get\n",
    "# better quality of output. This is for POC purpose.\n",
    "\n",
    "\n",
    "pic2show1 = kmeans.cluster_centers_[kmeans.labels_]\n",
    "print(np.amin(pic2show1[(kmeans.labels_==0)]), np.amax(pic2show1[(kmeans.labels_==0)]))\n",
    "a = (pic2show1 >(np.amin(pic2show1[(kmeans.labels_==0)])-1))\n",
    "b = (pic2show1 <(np.amax(pic2show1[(kmeans.labels_==0)])+1))\n",
    "c = (a & b)\n",
    "e = pic2show1[~c]\n",
    "pic2show1[~c] = 0\n",
    "pic2show1[c] = 1\n",
    "print(np.amin(pic2show1), np.amax(pic2show1))\n",
    "picOut1 = pic2show1.reshape(3481, 1021)\n",
    "sampleOutputPath = r'C:\\Users\\rohan\\Downloads\\test_cluster_out_mask3.tif'\n",
    "createRgbTiff(sampleOutputPath,rasterOrigin,pixelWidth, pixelHeight, picOut1, proj,format='GTiff')"
   ]
  }
 ],
 "metadata": {
  "kernelspec": {
   "display_name": "Python 3",
   "language": "python",
   "name": "python3"
  },
  "language_info": {
   "codemirror_mode": {
    "name": "ipython",
    "version": 3
   },
   "file_extension": ".py",
   "mimetype": "text/x-python",
   "name": "python",
   "nbconvert_exporter": "python",
   "pygments_lexer": "ipython3",
   "version": "3.7.7"
  }
 },
 "nbformat": 4,
 "nbformat_minor": 4
}
